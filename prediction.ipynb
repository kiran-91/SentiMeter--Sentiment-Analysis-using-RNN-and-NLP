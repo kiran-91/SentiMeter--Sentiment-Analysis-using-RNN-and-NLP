{
 "cells": [
  {
   "cell_type": "code",
   "execution_count": 4,
   "metadata": {},
   "outputs": [],
   "source": [
    "import numpy as np \n",
    "import tensorflow as tf \n",
    "from tensorflow.keras.datasets import imdb \n",
    "from tensorflow.keras.preprocessing import sequence\n",
    "from tensorflow.keras.models import Sequential\n",
    "from tensorflow.keras.layers import Embedding, Dense, SimpleRNN\n",
    "from tensorflow.keras.models import load_model"
   ]
  },
  {
   "cell_type": "code",
   "execution_count": 3,
   "metadata": {},
   "outputs": [],
   "source": [
    "word_index=imdb.get_word_index()\n",
    "reverse_word_index={value:key for key,value in word_index.items()}"
   ]
  },
  {
   "cell_type": "code",
   "execution_count": 5,
   "metadata": {},
   "outputs": [
    {
     "name": "stderr",
     "output_type": "stream",
     "text": [
      "WARNING:absl:Compiled the loaded model, but the compiled metrics have yet to be built. `model.compile_metrics` will be empty until you train or evaluate the model.\n"
     ]
    }
   ],
   "source": [
    "# Load the model\n",
    "model=load_model(\"SimpleRNN_imdb.h5\") "
   ]
  },
  {
   "cell_type": "code",
   "execution_count": 6,
   "metadata": {},
   "outputs": [
    {
     "data": {
      "text/html": [
       "<pre style=\"white-space:pre;overflow-x:auto;line-height:normal;font-family:Menlo,'DejaVu Sans Mono',consolas,'Courier New',monospace\"><span style=\"font-weight: bold\">Model: \"sequential_3\"</span>\n",
       "</pre>\n"
      ],
      "text/plain": [
       "\u001b[1mModel: \"sequential_3\"\u001b[0m\n"
      ]
     },
     "metadata": {},
     "output_type": "display_data"
    },
    {
     "data": {
      "text/html": [
       "<pre style=\"white-space:pre;overflow-x:auto;line-height:normal;font-family:Menlo,'DejaVu Sans Mono',consolas,'Courier New',monospace\">┏━━━━━━━━━━━━━━━━━━━━━━━━━━━━━━━━━┳━━━━━━━━━━━━━━━━━━━━━━━━┳━━━━━━━━━━━━━━━┓\n",
       "┃<span style=\"font-weight: bold\"> Layer (type)                    </span>┃<span style=\"font-weight: bold\"> Output Shape           </span>┃<span style=\"font-weight: bold\">       Param # </span>┃\n",
       "┡━━━━━━━━━━━━━━━━━━━━━━━━━━━━━━━━━╇━━━━━━━━━━━━━━━━━━━━━━━━╇━━━━━━━━━━━━━━━┩\n",
       "│ embedding_3 (<span style=\"color: #0087ff; text-decoration-color: #0087ff\">Embedding</span>)         │ (<span style=\"color: #00af00; text-decoration-color: #00af00\">32</span>, <span style=\"color: #00af00; text-decoration-color: #00af00\">500</span>, <span style=\"color: #00af00; text-decoration-color: #00af00\">130</span>)         │     <span style=\"color: #00af00; text-decoration-color: #00af00\">1,300,000</span> │\n",
       "├─────────────────────────────────┼────────────────────────┼───────────────┤\n",
       "│ simple_rnn_3 (<span style=\"color: #0087ff; text-decoration-color: #0087ff\">SimpleRNN</span>)        │ (<span style=\"color: #00af00; text-decoration-color: #00af00\">32</span>, <span style=\"color: #00af00; text-decoration-color: #00af00\">130</span>)              │        <span style=\"color: #00af00; text-decoration-color: #00af00\">33,930</span> │\n",
       "├─────────────────────────────────┼────────────────────────┼───────────────┤\n",
       "│ dense_3 (<span style=\"color: #0087ff; text-decoration-color: #0087ff\">Dense</span>)                 │ (<span style=\"color: #00af00; text-decoration-color: #00af00\">32</span>, <span style=\"color: #00af00; text-decoration-color: #00af00\">1</span>)                │           <span style=\"color: #00af00; text-decoration-color: #00af00\">131</span> │\n",
       "└─────────────────────────────────┴────────────────────────┴───────────────┘\n",
       "</pre>\n"
      ],
      "text/plain": [
       "┏━━━━━━━━━━━━━━━━━━━━━━━━━━━━━━━━━┳━━━━━━━━━━━━━━━━━━━━━━━━┳━━━━━━━━━━━━━━━┓\n",
       "┃\u001b[1m \u001b[0m\u001b[1mLayer (type)                   \u001b[0m\u001b[1m \u001b[0m┃\u001b[1m \u001b[0m\u001b[1mOutput Shape          \u001b[0m\u001b[1m \u001b[0m┃\u001b[1m \u001b[0m\u001b[1m      Param #\u001b[0m\u001b[1m \u001b[0m┃\n",
       "┡━━━━━━━━━━━━━━━━━━━━━━━━━━━━━━━━━╇━━━━━━━━━━━━━━━━━━━━━━━━╇━━━━━━━━━━━━━━━┩\n",
       "│ embedding_3 (\u001b[38;5;33mEmbedding\u001b[0m)         │ (\u001b[38;5;34m32\u001b[0m, \u001b[38;5;34m500\u001b[0m, \u001b[38;5;34m130\u001b[0m)         │     \u001b[38;5;34m1,300,000\u001b[0m │\n",
       "├─────────────────────────────────┼────────────────────────┼───────────────┤\n",
       "│ simple_rnn_3 (\u001b[38;5;33mSimpleRNN\u001b[0m)        │ (\u001b[38;5;34m32\u001b[0m, \u001b[38;5;34m130\u001b[0m)              │        \u001b[38;5;34m33,930\u001b[0m │\n",
       "├─────────────────────────────────┼────────────────────────┼───────────────┤\n",
       "│ dense_3 (\u001b[38;5;33mDense\u001b[0m)                 │ (\u001b[38;5;34m32\u001b[0m, \u001b[38;5;34m1\u001b[0m)                │           \u001b[38;5;34m131\u001b[0m │\n",
       "└─────────────────────────────────┴────────────────────────┴───────────────┘\n"
      ]
     },
     "metadata": {},
     "output_type": "display_data"
    },
    {
     "data": {
      "text/html": [
       "<pre style=\"white-space:pre;overflow-x:auto;line-height:normal;font-family:Menlo,'DejaVu Sans Mono',consolas,'Courier New',monospace\"><span style=\"font-weight: bold\"> Total params: </span><span style=\"color: #00af00; text-decoration-color: #00af00\">1,334,063</span> (5.09 MB)\n",
       "</pre>\n"
      ],
      "text/plain": [
       "\u001b[1m Total params: \u001b[0m\u001b[38;5;34m1,334,063\u001b[0m (5.09 MB)\n"
      ]
     },
     "metadata": {},
     "output_type": "display_data"
    },
    {
     "data": {
      "text/html": [
       "<pre style=\"white-space:pre;overflow-x:auto;line-height:normal;font-family:Menlo,'DejaVu Sans Mono',consolas,'Courier New',monospace\"><span style=\"font-weight: bold\"> Trainable params: </span><span style=\"color: #00af00; text-decoration-color: #00af00\">1,334,061</span> (5.09 MB)\n",
       "</pre>\n"
      ],
      "text/plain": [
       "\u001b[1m Trainable params: \u001b[0m\u001b[38;5;34m1,334,061\u001b[0m (5.09 MB)\n"
      ]
     },
     "metadata": {},
     "output_type": "display_data"
    },
    {
     "data": {
      "text/html": [
       "<pre style=\"white-space:pre;overflow-x:auto;line-height:normal;font-family:Menlo,'DejaVu Sans Mono',consolas,'Courier New',monospace\"><span style=\"font-weight: bold\"> Non-trainable params: </span><span style=\"color: #00af00; text-decoration-color: #00af00\">0</span> (0.00 B)\n",
       "</pre>\n"
      ],
      "text/plain": [
       "\u001b[1m Non-trainable params: \u001b[0m\u001b[38;5;34m0\u001b[0m (0.00 B)\n"
      ]
     },
     "metadata": {},
     "output_type": "display_data"
    },
    {
     "data": {
      "text/html": [
       "<pre style=\"white-space:pre;overflow-x:auto;line-height:normal;font-family:Menlo,'DejaVu Sans Mono',consolas,'Courier New',monospace\"><span style=\"font-weight: bold\"> Optimizer params: </span><span style=\"color: #00af00; text-decoration-color: #00af00\">2</span> (12.00 B)\n",
       "</pre>\n"
      ],
      "text/plain": [
       "\u001b[1m Optimizer params: \u001b[0m\u001b[38;5;34m2\u001b[0m (12.00 B)\n"
      ]
     },
     "metadata": {},
     "output_type": "display_data"
    }
   ],
   "source": [
    "model.summary()"
   ]
  },
  {
   "cell_type": "code",
   "execution_count": 7,
   "metadata": {},
   "outputs": [
    {
     "data": {
      "text/plain": [
       "[array([[-0.00550451,  0.08571474, -0.06907804, ...,  0.00294062,\n",
       "         -0.06672133,  0.0507569 ],\n",
       "        [-0.02038926,  0.01307895,  0.00118426, ..., -0.04862442,\n",
       "          0.02395979, -0.00014934],\n",
       "        [-0.02068799,  0.02080752,  0.01452003, ...,  0.05285328,\n",
       "          0.01939022,  0.07239639],\n",
       "        ...,\n",
       "        [-0.04501357, -0.01405875,  0.01388592, ...,  0.00871548,\n",
       "          0.04705491, -0.04974542],\n",
       "        [ 0.00360913,  0.03123496,  0.00640732, ...,  0.01837445,\n",
       "         -0.07903146, -0.00325123],\n",
       "        [ 0.04000092,  0.04864691,  0.02342467, ..., -0.01139499,\n",
       "          0.00117156,  0.01834104]], dtype=float32),\n",
       " array([[ 0.02193138,  0.1300435 ,  0.11522588, ...,  0.09630725,\n",
       "         -0.12420395,  0.08830342],\n",
       "        [ 0.10282623, -0.0846927 , -0.01303473, ..., -0.01371605,\n",
       "         -0.09047902,  0.04896414],\n",
       "        [ 0.04835587, -0.0211682 , -0.09230828, ...,  0.11060476,\n",
       "          0.1427663 , -0.00345221],\n",
       "        ...,\n",
       "        [-0.0438345 ,  0.02319006, -0.07651024, ..., -0.02690409,\n",
       "         -0.02491536, -0.04080789],\n",
       "        [-0.03325257, -0.07184817, -0.13941361, ...,  0.04475976,\n",
       "          0.10821084, -0.07344546],\n",
       "        [ 0.07826575, -0.05577229, -0.01191312, ...,  0.12408987,\n",
       "          0.15468007,  0.00454467]], dtype=float32),\n",
       " array([[-0.24523938,  0.00083623, -0.02257792, ...,  0.13517651,\n",
       "          0.06256327,  0.04679383],\n",
       "        [ 0.11382212, -0.06557062, -0.07579403, ...,  0.01741049,\n",
       "          0.06831757,  0.02147786],\n",
       "        [ 0.00946045,  0.03275497,  0.04502437, ...,  0.08820669,\n",
       "         -0.07710661,  0.0007879 ],\n",
       "        ...,\n",
       "        [-0.06862408, -0.14094314,  0.05417708, ...,  0.1031834 ,\n",
       "          0.08787528,  0.08593068],\n",
       "        [-0.09859463,  0.0045299 , -0.13806763, ..., -0.09194452,\n",
       "         -0.1619362 , -0.06850928],\n",
       "        [ 0.08332797,  0.01627397, -0.12885903, ...,  0.00826617,\n",
       "         -0.00499554, -0.02617141]], dtype=float32),\n",
       " array([-0.01311749, -0.01810347, -0.01372493, -0.02019758, -0.0107916 ,\n",
       "        -0.01420545,  0.0012879 , -0.01232051, -0.01167957, -0.01362554,\n",
       "         0.00309812,  0.00330465, -0.01499381, -0.01200996, -0.00765924,\n",
       "         0.00233297, -0.01053042, -0.01462837,  0.01457146, -0.01290659,\n",
       "         0.01908736, -0.01875914,  0.02083574,  0.00564658, -0.01303845,\n",
       "        -0.00264723, -0.01533312,  0.02362928,  0.01204179, -0.01526309,\n",
       "        -0.01498461, -0.00583742, -0.00660506, -0.01645557, -0.010283  ,\n",
       "        -0.01027015, -0.00049591, -0.00367442, -0.01314246, -0.02381052,\n",
       "        -0.01738175,  0.00120542, -0.02626225,  0.01340164, -0.00462509,\n",
       "         0.00198387, -0.00140974,  0.01528693, -0.01294507,  0.00942602,\n",
       "        -0.01095203, -0.01862426, -0.01252074, -0.00488401, -0.00691936,\n",
       "         0.02356208, -0.00244767,  0.01072751,  0.01696503, -0.01084797,\n",
       "        -0.01217057, -0.02138222, -0.00711819, -0.00443265, -0.00115242,\n",
       "        -0.00030866,  0.02395272,  0.00089932, -0.02303237, -0.02062874,\n",
       "        -0.00170826,  0.02375965, -0.00534443, -0.02451372,  0.00175562,\n",
       "        -0.01902925,  0.00400148, -0.01105103, -0.02089953, -0.01419739,\n",
       "         0.02640744, -0.00329766, -0.01614145, -0.00411   ,  0.00959618,\n",
       "         0.0053929 ,  0.01707833, -0.01565591, -0.02687833,  0.01629158,\n",
       "         0.02335308,  0.02048319, -0.0345662 , -0.00893168,  0.00534796,\n",
       "        -0.01632472, -0.00649653, -0.01964259,  0.01030119, -0.01382466,\n",
       "        -0.02108416, -0.01195505,  0.02597996, -0.01072062,  0.03072219,\n",
       "        -0.02196236, -0.00163347, -0.00849722,  0.00071329,  0.00461933,\n",
       "        -0.01095134, -0.00765097, -0.0010307 , -0.01318562,  0.10385863,\n",
       "         0.00684313, -0.00483733,  0.00180864, -0.01022559, -0.01360766,\n",
       "         0.02053054, -0.00178588,  0.00389255, -0.00490056,  0.00405377,\n",
       "         0.00735394, -0.01205674, -0.01467879,  0.00325853, -0.01285639],\n",
       "       dtype=float32),\n",
       " array([[-0.20638223],\n",
       "        [-0.11656381],\n",
       "        [-0.01548688],\n",
       "        [-0.00201672],\n",
       "        [ 0.08958615],\n",
       "        [ 0.01668111],\n",
       "        [-0.0052662 ],\n",
       "        [ 0.10396533],\n",
       "        [-0.18118046],\n",
       "        [ 0.01183971],\n",
       "        [-0.45011044],\n",
       "        [ 0.15191782],\n",
       "        [ 0.0028269 ],\n",
       "        [ 0.0318432 ],\n",
       "        [ 0.02433465],\n",
       "        [ 0.47097996],\n",
       "        [-0.1804784 ],\n",
       "        [-0.05278429],\n",
       "        [-0.17971258],\n",
       "        [-0.18427515],\n",
       "        [ 0.05394843],\n",
       "        [ 0.18702108],\n",
       "        [ 0.10014383],\n",
       "        [-0.05665172],\n",
       "        [-0.05979871],\n",
       "        [-0.01118394],\n",
       "        [-0.05729742],\n",
       "        [ 0.03399652],\n",
       "        [ 0.15502927],\n",
       "        [ 0.0981026 ],\n",
       "        [-0.10367101],\n",
       "        [-0.21825032],\n",
       "        [-0.00049057],\n",
       "        [-0.20522231],\n",
       "        [-0.10941981],\n",
       "        [-0.21211699],\n",
       "        [ 0.14658575],\n",
       "        [-0.14685823],\n",
       "        [-0.18271998],\n",
       "        [-0.26189134],\n",
       "        [-0.29341736],\n",
       "        [-0.1278479 ],\n",
       "        [-0.34474155],\n",
       "        [ 0.02532035],\n",
       "        [-0.4732752 ],\n",
       "        [ 0.21927589],\n",
       "        [ 0.04760364],\n",
       "        [ 0.09442816],\n",
       "        [-0.21120106],\n",
       "        [-0.20210311],\n",
       "        [-0.25246876],\n",
       "        [-0.2767252 ],\n",
       "        [-0.03321049],\n",
       "        [-0.12148525],\n",
       "        [ 0.04734811],\n",
       "        [ 0.21261597],\n",
       "        [-0.15263695],\n",
       "        [-0.09838692],\n",
       "        [-0.02939804],\n",
       "        [-0.17349765],\n",
       "        [ 0.13461117],\n",
       "        [-0.11351762],\n",
       "        [ 0.07416036],\n",
       "        [-0.09036164],\n",
       "        [-0.24877141],\n",
       "        [ 0.04343108],\n",
       "        [ 0.14510663],\n",
       "        [-0.34038693],\n",
       "        [-0.16089469],\n",
       "        [-0.03680412],\n",
       "        [-0.2595927 ],\n",
       "        [ 0.15042341],\n",
       "        [-0.17772217],\n",
       "        [-0.058134  ],\n",
       "        [-0.17826359],\n",
       "        [ 0.2220323 ],\n",
       "        [-0.10472124],\n",
       "        [-0.12800576],\n",
       "        [ 0.05749477],\n",
       "        [ 0.08418417],\n",
       "        [ 0.10844379],\n",
       "        [-0.2641581 ],\n",
       "        [ 0.08462541],\n",
       "        [ 0.0469508 ],\n",
       "        [ 0.11131994],\n",
       "        [-0.18088546],\n",
       "        [ 0.05385165],\n",
       "        [-0.12177562],\n",
       "        [-0.14280432],\n",
       "        [ 0.0617376 ],\n",
       "        [ 0.20011987],\n",
       "        [ 0.19384477],\n",
       "        [-0.1415259 ],\n",
       "        [-0.0769252 ],\n",
       "        [ 0.22839473],\n",
       "        [-0.06363867],\n",
       "        [ 0.05495705],\n",
       "        [-0.18724416],\n",
       "        [-0.16612387],\n",
       "        [-0.21066666],\n",
       "        [-0.1949881 ],\n",
       "        [-0.15994547],\n",
       "        [ 0.14856087],\n",
       "        [ 0.01857791],\n",
       "        [ 0.21862638],\n",
       "        [-0.05959626],\n",
       "        [ 0.09757077],\n",
       "        [-0.12375179],\n",
       "        [-0.4904549 ],\n",
       "        [-0.25093195],\n",
       "        [-0.1171379 ],\n",
       "        [-0.1968709 ],\n",
       "        [ 0.1919376 ],\n",
       "        [-0.11249559],\n",
       "        [-0.34199488],\n",
       "        [-0.2285168 ],\n",
       "        [ 0.09401071],\n",
       "        [-0.16170354],\n",
       "        [-0.12062693],\n",
       "        [-0.0618348 ],\n",
       "        [ 0.15703112],\n",
       "        [ 0.07573042],\n",
       "        [ 0.25195578],\n",
       "        [-0.25525782],\n",
       "        [-0.25995585],\n",
       "        [ 0.00668013],\n",
       "        [-0.1066563 ],\n",
       "        [-0.16370378],\n",
       "        [-0.12483852],\n",
       "        [-0.17760722]], dtype=float32),\n",
       " array([-0.19404851], dtype=float32)]"
      ]
     },
     "execution_count": 7,
     "metadata": {},
     "output_type": "execute_result"
    }
   ],
   "source": [
    "model.get_weights()"
   ]
  },
  {
   "cell_type": "code",
   "execution_count": 8,
   "metadata": {},
   "outputs": [],
   "source": [
    "def decode_review(encoded_review):\n",
    "    return ' '.join([reverse_word_index.get(i-3, '?') for i in encoded_review])\n",
    "\n",
    "# Function to process user inputs\n",
    "def preprocess_text(text):\n",
    "    words=text.lower().split()\n",
    "    encoded_review=[word_index.get(word, 2)+3 for word in words]  # noqa: F841\n",
    "    padded_review=sequence.pad_sequences([encoded_review], maxlen=500)\n",
    "    return padded_review"
   ]
  },
  {
   "cell_type": "code",
   "execution_count": 9,
   "metadata": {},
   "outputs": [],
   "source": [
    "# Prediction function \n",
    "def predict_sentiment(review):\n",
    "    preprocessed_input=preprocess_text(review)\n",
    "    prediction=model.predict(preprocessed_input)\n",
    "    sentiment=\"Positive\" if prediction[0][0]>0.5 else \"Negative\"\n",
    "    return sentiment,  prediction[0][0]\n"
   ]
  },
  {
   "cell_type": "code",
   "execution_count": 10,
   "metadata": {},
   "outputs": [
    {
     "name": "stdout",
     "output_type": "stream",
     "text": [
      "\u001b[1m1/1\u001b[0m \u001b[32m━━━━━━━━━━━━━━━━━━━━\u001b[0m\u001b[37m\u001b[0m \u001b[1m1s\u001b[0m 931ms/step\n",
      "Review : The movie was fantastic and the acting was great and the story was thrilling\n",
      "Sentiment : Positive\n",
      "Prediction Score : 0.7978144288063049\n"
     ]
    }
   ],
   "source": [
    "example_review=\"The movie was fantastic and the acting was great and the story was thrilling\"\n",
    "sentiment,score=predict_sentiment(example_review)\n",
    "\n",
    "print(f\"Review : {example_review}\")\n",
    "print(f\"Sentiment : {sentiment}\")\n",
    "print(f\"Prediction Score : {score}\")\n"
   ]
  },
  {
   "cell_type": "code",
   "execution_count": null,
   "metadata": {},
   "outputs": [],
   "source": []
  }
 ],
 "metadata": {
  "kernelspec": {
   "display_name": "venv",
   "language": "python",
   "name": "python3"
  },
  "language_info": {
   "codemirror_mode": {
    "name": "ipython",
    "version": 3
   },
   "file_extension": ".py",
   "mimetype": "text/x-python",
   "name": "python",
   "nbconvert_exporter": "python",
   "pygments_lexer": "ipython3",
   "version": "3.12.6"
  }
 },
 "nbformat": 4,
 "nbformat_minor": 2
}
